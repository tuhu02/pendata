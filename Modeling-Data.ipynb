{
 "cells": [
  {
   "cell_type": "markdown",
   "metadata": {},
   "source": [
    "# **Data Modeling**"
   ]
  },
  {
   "cell_type": "markdown",
   "metadata": {},
   "source": [
    "Modeling Data adalah tahap keempat dalam proses CRISP-DM (Cross-Industry Standard Process for Data Mining) setelah tahap Data Understanding dan Data Preparation. Pada tahap ini, kita membangun model menggunakan teknik statistik atau machine learning untuk menemukan pola dalam data dan membuat prediksi atau klasifikasi.\n",
    "\n",
    "\n",
    "**Tahapan dalam Data Modeling:**\n",
    "\n",
    "1. **Memilih Model**\n",
    "- Menentukan algoritma yang sesuai (misalnya, regresi, pohon keputusan, SVM, Naïve Bayes, dll.).\n",
    "- Pemilihan model didasarkan pada tujuan analisis dan karakteristik data.\n",
    "\n",
    "2. **Melatih Model (Training Model)**\n",
    "- Membagi data menjadi training set dan testing set.\n",
    "- Melatih model menggunakan training set agar dapat mengenali pola dalam data.\n",
    "\n",
    "3. **Evaluasi Model**\n",
    "- Menggunakan testing set untuk mengukur performa model dengan metrik seperti akurasi, precision, recall, F1-score, MSE, dll.\n",
    "- Jika model tidak memberikan hasil yang baik, dapat dilakukan tuning parameter atau pemilihan model lain.\n",
    "\n",
    "4. **Optimasi Model**\n",
    "- Menggunakan teknik seperti hyperparameter tuning, cross-validation, atau feature engineering untuk meningkatkan performa model.\n",
    "\n",
    "\n",
    "**Contoh Penerapan Data Modeling**\n",
    "Jika kita ingin mengklasifikasikan jenis bunga iris berdasarkan panjang dan lebar kelopaknya, maka:\n",
    "\n",
    "- **Memahami data** → Melihat apakah ada outlier, nilai kosong, dan distribusi data.\n",
    "\n",
    "- **Modeling data** → Menggunakan Naïve Bayes atau Decision Tree untuk mengklasifikasikan jenis bunga berdasarkan pola yang ditemukan dari data latih.\n",
    "\n",
    "Setelah tahap ini selesai, selanjutnya masuk ke tahap Evaluation (Evaluasi Model) untuk memastikan performanya sesuai dengan yang diharapkan. "
   ]
  },
  {
   "cell_type": "markdown",
   "metadata": {},
   "source": [
    "## **Pengenalan Naive Bayes**\n",
    "### **Apa itu Naive Bayes?**\n",
    "- Algoritma klasifikasi berbasis probabilitas.\n",
    "- Digunakan untuk memprediksi kelas suatu data berdasarkan fitur-fiturnya.\n",
    "- Termasuk dalam keluarga algoritma Machine Learning Supervised Learning.\n",
    "### **Contoh Aplikasi:**\n",
    "- Klasifikasi email spam atau bukan spam.\n",
    "- Prediksi cuaca.\n",
    "- Analisis sentimen teks.\n",
    "## **Prinsip Dasar - Teorema Bayes**\n",
    "### **Teorema Bayes:**\n",
    "$$\n",
    "P(Y|X) = \\frac{P(X|Y) \\cdot P(Y)}{P(X)}\n",
    "$$\n",
    "### **Penjelasan:**\n",
    "- $ P(Y|X) $: Probabilitas posterior (kelas $ Y $ diberikan fitur $ X $).\n",
    "- $ P(X|Y) $: Likelihood (probabilitas fitur $ X $ diberikan kelas $ Y $).\n",
    "- $ P(Y) $: Prior probability (probabilitas awal kelas $ Y $).\n",
    "- $ P(X) $: Evidence (probabilitas fitur $ X $ secara keseluruhan).\n",
    "### **Tujuan:**\n",
    "Mencari kelas $ Y $ dengan nilai $ P(Y|X) $ tertinggi.\n",
    "\n",
    "## **Asumsi “Naive”**\n",
    "### **Asumsi Utama:**\n",
    "- Fitur-fitur bersifat independen satu sama lain.\n",
    "- Artinya, probabilitas suatu fitur tidak dipengaruhi oleh fitur lainnya.\n",
    "### **Contoh:**\n",
    "Jika kita ingin mengklasifikasikan email sebagai spam atau bukan spam:\n",
    "- Kata “diskon” dan kata “beli” dianggap independen meskipun sering muncul bersamaan.\n",
    "### **Komentar:**\n",
    "Meskipun asumsi ini jarang terpenuhi di dunia nyata, Naive Bayes tetap efektif dalam banyak kasus.\n",
    "\n",
    "## **Langkah-langkah Klasifikasi**\n",
    "1. **Persiapan Data:**\n",
    "- Pisahkan data menjadi fitur ($ X $) dan label ($ Y $).\n",
    "2. **Hitung Probabilitas Awal ($ P(Y) $):**\n",
    "- Hitung frekuensi setiap kelas dalam dataset.\n",
    "3. **Hitung Likelihood ($ P(X|Y) $):**\n",
    "- Untuk setiap fitur, hitung probabilitas kemunculannya dalam setiap kelas.\n",
    "4. **Gabungkan dengan Teorema Bayes:**\n",
    "- Gunakan rumus\n",
    "$$\n",
    "P(Y|X) = \\frac{P(X|Y) \\cdot P(Y)}{P(X)}\n",
    "$$\n",
    "5. **Prediksi Kelas:**\n",
    "- Pilih kelas dengan nilai $ P(Y|X) $ tertinggi.\n",
    "\n",
    "## **Kelebihan dan Kekurangan**\n",
    "### **Kelebihan:**\n",
    "- Sederhana dan mudah diimplementasikan.\n",
    "- Cepat dan efisien untuk dataset besar.\n",
    "- Cocok untuk data dengan banyak fitur.\n",
    "### **Kekurangan:**\n",
    "- Asumsi independensi fitur seringkali tidak realistis.\n",
    "- Performa menurun jika fitur saling bergantung.\n",
    "- Memerlukan penanganan khusus untuk data dengan probabilitas nol.\n",
    "\n",
    "## **Contoh Kasus - Klasifikasi Email Spam**\n",
    "### **Dataset:**\n",
    "- **Fitur:** Frekuensi kata-kata tertentu (e.g., “gratis”, “diskon”).\n",
    "- **Label:** Spam atau Bukan Spam.\n",
    "### **Langkah-Langkah:**\n",
    "1. Hitung probabilitas prior untuk setiap kelas.\n",
    "2. Hitung likelihood untuk setiap kata dalam email.\n",
    "3. Gunakan teorema Bayes untuk memprediksi apakah email termasuk spam atau bukan.\n",
    "### **Hasil:**\n",
    "Email diklasifikasikan sebagai spam jika probabilitas spam lebih tinggi daripada bukan spam."
   ]
  },
  {
   "cell_type": "markdown",
   "metadata": {},
   "source": [
    "# **Impelemtasi menggunakan python pada data yang ada outliernya dan tidak ada outliernya**"
   ]
  },
  {
   "cell_type": "markdown",
   "metadata": {},
   "source": [
    "**Contoh Menggunakan data dengan outlier**"
   ]
  },
  {
   "cell_type": "code",
   "execution_count": null,
   "metadata": {},
   "outputs": [
    {
     "name": "stdout",
     "output_type": "stream",
     "text": [
      "Akurasi: 0.8666666666666667\n"
     ]
    }
   ],
   "source": [
    "import pandas as pd\n",
    "from sklearn.naive_bayes import GaussianNB\n",
    "from sklearn.model_selection import train_test_split\n",
    "from sklearn.metrics import accuracy_score\n",
    "\n",
    "# Membaca file CSV\n",
    "file_path = \"hasil_gabungan.csv\"\n",
    "df = pd.read_csv(file_path)\n",
    "\n",
    "# Memilih fitur dan label\n",
    "X = df[['petal_length', 'petal_width', 'sepal_length', 'sepal_width']]\n",
    "y = df['class']\n",
    "\n",
    "# Membagi data menjadi data latih dan data uji\n",
    "X_train, X_test, y_train, y_test = train_test_split(X, y, test_size=0.2, random_state=42)\n",
    "\n",
    "# Inisialisasi model Naïve Bayes\n",
    "model = GaussianNB()\n",
    "\n",
    "# Melatih model\n",
    "model.fit(X_train, y_train)\n",
    "\n",
    "# Melakukan prediksi\n",
    "y_pred = model.predict(X_test)\n",
    "\n",
    "# Mengukur akurasi model\n",
    "accuracy = accuracy_score(y_test, y_pred)\n",
    "print(\"Akurasi:\", accuracy)"
   ]
  },
  {
   "cell_type": "markdown",
   "metadata": {},
   "source": [
    "**Contoh Menggunakan data dengan outlier yang sudah dihapus**"
   ]
  },
  {
   "cell_type": "code",
   "execution_count": 3,
   "metadata": {},
   "outputs": [
    {
     "name": "stdout",
     "output_type": "stream",
     "text": [
      "Akurasi: 0.9629629629629629\n"
     ]
    }
   ],
   "source": [
    "import pandas as pd\n",
    "from sklearn.naive_bayes import GaussianNB\n",
    "from sklearn.model_selection import train_test_split\n",
    "from sklearn.metrics import accuracy_score\n",
    "\n",
    "# Membaca file CSV\n",
    "file_path = \"data_clean.csv\"\n",
    "df = pd.read_csv(file_path)\n",
    "\n",
    "# Memilih fitur dan label\n",
    "X = df[['petal_length', 'petal_width', 'sepal_length', 'sepal_width']]\n",
    "y = df['class']\n",
    "\n",
    "# Membagi data menjadi data latih dan data uji\n",
    "X_train, X_test, y_train, y_test = train_test_split(X, y, test_size=0.2, random_state=42)\n",
    "\n",
    "# Inisialisasi model Naïve Bayes\n",
    "model = GaussianNB()\n",
    "\n",
    "# Melatih model\n",
    "model.fit(X_train, y_train)\n",
    "\n",
    "# Melakukan prediksi\n",
    "y_pred = model.predict(X_test)\n",
    "\n",
    "# Mengukur akurasi model\n",
    "accuracy = accuracy_score(y_test, y_pred)\n",
    "print(\"Akurasi:\", accuracy)\n"
   ]
  }
 ],
 "metadata": {
  "kernelspec": {
   "display_name": "Python 3",
   "language": "python",
   "name": "python3"
  },
  "language_info": {
   "codemirror_mode": {
    "name": "ipython",
    "version": 3
   },
   "file_extension": ".py",
   "mimetype": "text/x-python",
   "name": "python",
   "nbconvert_exporter": "python",
   "pygments_lexer": "ipython3",
   "version": "3.12.10"
  }
 },
 "nbformat": 4,
 "nbformat_minor": 2
}
