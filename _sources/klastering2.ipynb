{
 "cells": [
  {
   "cell_type": "code",
   "execution_count": 8,
   "id": "6d304dbe",
   "metadata": {},
   "outputs": [
    {
     "name": "stdout",
     "output_type": "stream",
     "text": [
      "   id        class  petal_length  petal_width  sepal_length  sepal_width\n",
      "0   2  Iris-setosa           1.4          0.2           4.9          3.0\n",
      "1   3  Iris-setosa           1.3          0.2           4.7          3.2\n",
      "2   4  Iris-setosa           1.5          0.2           4.6          3.1\n",
      "3   5  Iris-setosa           1.4          0.2           5.0          3.6\n",
      "4   6  Iris-setosa           1.7          0.4           5.4          3.9\n"
     ]
    }
   ],
   "source": [
    "import pandas as pd\n",
    "from sklearn.cluster import KMeans\n",
    "from sklearn.metrics import silhouette_score\n",
    "\n",
    "# Membaca file CSV\n",
    "df = pd.read_csv(\"data_clean.csv\")\n",
    "print(df.head())  # Menampilkan 5 baris pertama dari DataFrame"
   ]
  },
  {
   "cell_type": "code",
   "execution_count": 9,
   "id": "43da5d19",
   "metadata": {},
   "outputs": [
    {
     "name": "stdout",
     "output_type": "stream",
     "text": [
      "[[1.4 0.2 4.9 3. ]\n",
      " [1.3 0.2 4.7 3.2]\n",
      " [1.5 0.2 4.6 3.1]\n",
      " [1.4 0.2 5.  3.6]\n",
      " [1.7 0.4 5.4 3.9]\n",
      " [1.4 0.3 4.6 3.4]\n",
      " [1.5 0.2 5.  3.4]\n",
      " [1.4 0.2 4.4 2.9]\n",
      " [1.5 0.1 4.9 3.1]\n",
      " [1.5 0.2 5.4 3.7]\n",
      " [1.6 0.2 4.8 3.4]\n",
      " [1.4 0.1 4.8 3. ]\n",
      " [1.1 0.1 4.3 3. ]\n",
      " [1.2 0.2 5.8 4. ]\n",
      " [1.5 0.4 5.7 4.4]\n",
      " [1.3 0.4 5.4 3.9]\n",
      " [1.4 0.3 5.1 3.5]\n",
      " [1.7 0.3 5.7 3.8]\n",
      " [1.5 0.3 5.1 3.8]\n",
      " [1.7 0.2 5.4 3.4]\n",
      " [1.5 0.4 5.1 3.7]\n",
      " [1.  0.2 4.6 3.6]\n",
      " [1.7 0.5 5.1 3.3]\n",
      " [1.9 0.2 4.8 3.4]\n",
      " [1.6 0.2 5.  3. ]\n",
      " [1.6 0.4 5.  3.4]\n",
      " [1.5 0.2 5.2 3.5]\n",
      " [1.4 0.2 5.2 3.4]\n",
      " [1.6 0.2 4.7 3.2]\n",
      " [1.6 0.2 4.8 3.1]\n",
      " [1.5 0.4 5.4 3.4]\n",
      " [1.5 0.1 5.2 4.1]\n",
      " [1.4 0.2 5.5 4.2]\n",
      " [1.5 0.1 4.9 3.1]\n",
      " [1.2 0.2 5.  3.2]\n",
      " [1.3 0.2 5.5 3.5]\n",
      " [1.5 0.1 4.9 3.1]\n",
      " [1.3 0.2 4.4 3. ]\n",
      " [1.5 0.2 5.1 3.4]\n",
      " [1.3 0.3 5.  3.5]\n",
      " [1.3 0.2 4.4 3.2]\n",
      " [1.6 0.6 5.  3.5]\n",
      " [1.9 0.4 5.1 3.8]\n",
      " [1.4 0.3 4.8 3. ]\n",
      " [1.6 0.2 5.1 3.8]\n",
      " [1.4 0.2 4.6 3.2]\n",
      " [1.5 0.2 5.3 3.7]\n",
      " [1.4 0.2 5.  3.3]\n",
      " [4.7 1.4 7.  3.2]\n",
      " [4.5 1.5 6.4 3.2]\n",
      " [4.9 1.5 6.9 3.1]\n",
      " [4.  1.3 5.5 2.3]\n",
      " [4.6 1.5 6.5 2.8]\n",
      " [4.5 1.3 5.7 2.8]\n",
      " [4.7 1.6 6.3 3.3]\n",
      " [4.6 1.3 6.6 2.9]\n",
      " [3.9 1.4 5.2 2.7]\n",
      " [4.2 1.5 5.9 3. ]\n",
      " [4.  1.  6.  2.2]\n",
      " [4.7 1.4 6.1 2.9]\n",
      " [3.6 1.3 5.6 2.9]\n",
      " [4.4 1.4 6.7 3.1]\n",
      " [4.5 1.5 5.6 3. ]\n",
      " [4.1 1.  5.8 2.7]\n",
      " [4.5 1.5 6.2 2.2]\n",
      " [3.9 1.1 5.6 2.5]\n",
      " [4.8 1.8 5.9 3.2]\n",
      " [4.  1.3 6.1 2.8]\n",
      " [4.9 1.5 6.3 2.5]\n",
      " [4.7 1.2 6.1 2.8]\n",
      " [4.3 1.3 6.4 2.9]\n",
      " [4.4 1.4 6.6 3. ]\n",
      " [4.8 1.4 6.8 2.8]\n",
      " [5.  1.7 6.7 3. ]\n",
      " [4.5 1.5 6.  2.9]\n",
      " [3.5 1.  5.7 2.6]\n",
      " [3.8 1.1 5.5 2.4]\n",
      " [3.7 1.  5.5 2.4]\n",
      " [3.9 1.2 5.8 2.7]\n",
      " [5.1 1.6 6.  2.7]\n",
      " [4.5 1.5 5.4 3. ]\n",
      " [4.5 1.6 6.  3.4]\n",
      " [4.7 1.5 6.7 3.1]\n",
      " [4.4 1.3 6.3 2.3]\n",
      " [4.1 1.3 5.6 3. ]\n",
      " [4.  1.3 5.5 2.5]\n",
      " [4.4 1.2 5.5 2.6]\n",
      " [4.6 1.4 6.1 3. ]\n",
      " [4.  1.2 5.8 2.6]\n",
      " [4.2 1.3 5.6 2.7]\n",
      " [4.2 1.2 5.7 3. ]\n",
      " [4.2 1.3 5.7 2.9]\n",
      " [4.3 1.3 6.2 2.9]\n",
      " [4.1 1.3 5.7 2.8]\n",
      " [5.1 1.9 5.8 2.7]\n",
      " [5.9 2.1 7.1 3. ]\n",
      " [5.6 1.8 6.3 2.9]\n",
      " [5.8 2.2 6.5 3. ]\n",
      " [6.3 1.8 7.3 2.9]\n",
      " [5.8 1.8 6.7 2.5]\n",
      " [5.1 2.  6.5 3.2]\n",
      " [5.3 1.9 6.4 2.7]\n",
      " [5.5 2.1 6.8 3. ]\n",
      " [5.  2.  5.7 2.5]\n",
      " [5.1 2.4 5.8 2.8]\n",
      " [5.3 2.3 6.4 3.2]\n",
      " [5.5 1.8 6.5 3. ]\n",
      " [5.  1.5 6.  2.2]\n",
      " [5.7 2.3 6.9 3.2]\n",
      " [4.9 2.  5.6 2.8]\n",
      " [4.9 1.8 6.3 2.7]\n",
      " [5.7 2.1 6.7 3.3]\n",
      " [6.  1.8 7.2 3.2]\n",
      " [4.8 1.8 6.2 2.8]\n",
      " [4.9 1.8 6.1 3. ]\n",
      " [5.6 2.1 6.4 2.8]\n",
      " [5.8 1.6 7.2 3. ]\n",
      " [6.1 1.9 7.4 2.8]\n",
      " [5.6 2.2 6.4 2.8]\n",
      " [5.1 1.5 6.3 2.8]\n",
      " [5.6 1.4 6.1 2.6]\n",
      " [5.6 2.4 6.3 3.4]\n",
      " [5.5 1.8 6.4 3.1]\n",
      " [4.8 1.8 6.  3. ]\n",
      " [5.4 2.1 6.9 3.1]\n",
      " [5.6 2.4 6.7 3.1]\n",
      " [5.1 2.3 6.9 3.1]\n",
      " [5.1 1.9 5.8 2.7]\n",
      " [5.9 2.3 6.8 3.2]\n",
      " [5.7 2.5 6.7 3.3]\n",
      " [5.2 2.3 6.7 3. ]\n",
      " [5.  1.9 6.3 2.5]\n",
      " [5.2 2.  6.5 3. ]\n",
      " [5.4 2.3 6.2 3.4]\n",
      " [5.1 1.8 5.9 3. ]]\n"
     ]
    }
   ],
   "source": [
    "X = df.drop(columns=[\"class\", \"id\"]).values\n",
    "print(X)"
   ]
  },
  {
   "cell_type": "code",
   "execution_count": 10,
   "id": "bc596377",
   "metadata": {},
   "outputs": [
    {
     "name": "stdout",
     "output_type": "stream",
     "text": [
      "Hasil label cluster: [1 1 1 1 1 1 1 1 1 1 1 1 1 1 1 1 1 1 1 1 1 1 1 1 1 1 1 1 1 1 1 1 1 1 1 1 1\n",
      " 1 1 1 1 1 1 1 1 1 1 1 0 0 0 0 0 0 0 0 0 0 0 0 0 0 0 0 0 0 0 0 0 0 0 0 0 0\n",
      " 0 0 0 0 0 0 0 0 0 0 0 0 0 0 0 0 0 0 0 0 0 0 0 0 0 0 0 0 0 0 0 0 0 0 0 0 0\n",
      " 0 0 0 0 0 0 0 0 0 0 0 0 0 0 0 0 0 0 0 0 0 0 0 0]\n"
     ]
    }
   ],
   "source": [
    "kmeans2 = KMeans(n_clusters=2, random_state=0, n_init=\"auto\", max_iter=300, tol=0.0001, verbose=0,copy_x=True,algorithm=\"lloyd\").fit(X)\n",
    "print(\"Hasil label cluster:\", kmeans2.labels_)"
   ]
  },
  {
   "cell_type": "code",
   "execution_count": 18,
   "id": "61a245a1",
   "metadata": {},
   "outputs": [
    {
     "name": "stdout",
     "output_type": "stream",
     "text": [
      "Silhouette Score: 0.733753386362786\n"
     ]
    }
   ],
   "source": [
    "score2 = silhouette_score(X, kmeans2.labels_)\n",
    "print(\"Silhouette Score:\", score2)"
   ]
  },
  {
   "cell_type": "code",
   "execution_count": 19,
   "id": "1f17a701",
   "metadata": {},
   "outputs": [
    {
     "name": "stdout",
     "output_type": "stream",
     "text": [
      "SSE (Inertia): 91.95261494252873\n"
     ]
    }
   ],
   "source": [
    "sse2 = kmeans2.inertia_\n",
    "print(\"SSE (Inertia):\", sse2)"
   ]
  },
  {
   "cell_type": "markdown",
   "id": "7ad20fc1",
   "metadata": {},
   "source": [
    "**Klastering K-Means dengan 3 Klaster**"
   ]
  },
  {
   "cell_type": "code",
   "execution_count": 20,
   "id": "8a068a77",
   "metadata": {},
   "outputs": [
    {
     "name": "stdout",
     "output_type": "stream",
     "text": [
      "Hasil label cluster: [1 1 1 1 1 1 1 1 1 1 1 1 1 1 1 1 1 1 1 1 1 1 1 1 1 1 1 1 1 1 1 1 1 1 1 1 1\n",
      " 1 1 1 1 1 1 1 1 1 1 1 2 0 2 0 0 0 0 0 0 0 0 0 0 0 0 0 0 0 0 0 0 0 0 0 0 2\n",
      " 0 0 0 0 0 0 0 0 0 0 0 0 0 0 0 0 0 0 0 0 0 2 2 2 2 2 2 2 2 0 2 2 2 0 2 0 0\n",
      " 2 2 0 0 2 2 2 2 0 2 2 2 0 2 2 2 0 2 2 2 2 2 2 0]\n"
     ]
    }
   ],
   "source": [
    "kmeans3 = KMeans(n_clusters=3, random_state=0, n_init=\"auto\", max_iter=300, tol=0.0001, verbose=0,copy_x=True,algorithm=\"lloyd\").fit(X)\n",
    "print(\"Hasil label cluster:\", kmeans3.labels_)"
   ]
  },
  {
   "cell_type": "code",
   "execution_count": 21,
   "id": "e64dd040",
   "metadata": {},
   "outputs": [
    {
     "name": "stdout",
     "output_type": "stream",
     "text": [
      "Silhouette Score: 0.5526724253274978\n"
     ]
    }
   ],
   "source": [
    "score3 = silhouette_score(X, kmeans3.labels_)\n",
    "print(\"Silhouette Score:\", score3)"
   ]
  },
  {
   "cell_type": "code",
   "execution_count": 22,
   "id": "16dea273",
   "metadata": {},
   "outputs": [
    {
     "name": "stdout",
     "output_type": "stream",
     "text": [
      "SSE (Inertia): 51.258375420875424\n"
     ]
    }
   ],
   "source": [
    "sse3 = kmeans3.inertia_\n",
    "print(\"SSE (Inertia):\", sse3)"
   ]
  },
  {
   "cell_type": "markdown",
   "id": "ed681337",
   "metadata": {},
   "source": [
    "**Klastering K-Means dengan 4 Klaster**"
   ]
  },
  {
   "cell_type": "code",
   "execution_count": 24,
   "id": "58cb370f",
   "metadata": {},
   "outputs": [
    {
     "name": "stdout",
     "output_type": "stream",
     "text": [
      "Hasil label cluster: [1 1 1 1 1 1 1 1 1 1 1 1 1 1 1 1 1 1 1 1 1 1 1 1 1 1 1 1 1 1 1 1 1 1 1 1 1\n",
      " 1 1 1 1 1 1 1 1 1 1 1 3 3 3 0 3 0 3 3 0 0 0 3 0 3 0 0 3 0 3 0 3 3 3 3 3 3\n",
      " 3 0 0 0 0 3 0 3 3 3 0 0 0 3 0 0 0 0 3 0 3 2 2 2 2 2 2 2 2 3 3 2 2 3 2 3 3\n",
      " 2 2 3 3 2 2 2 2 3 3 2 2 3 2 2 2 3 2 2 2 3 2 2 3]\n"
     ]
    }
   ],
   "source": [
    "kmeans4 = KMeans(n_clusters=4, random_state=0, n_init=\"auto\", max_iter=300, tol=0.0001, verbose=0,copy_x=True,algorithm=\"lloyd\").fit(X)\n",
    "print(\"Hasil label cluster:\", kmeans4.labels_)"
   ]
  },
  {
   "cell_type": "code",
   "execution_count": 25,
   "id": "6fe4a642",
   "metadata": {},
   "outputs": [
    {
     "name": "stdout",
     "output_type": "stream",
     "text": [
      "Silhouette Score: 0.5164276907998084\n"
     ]
    }
   ],
   "source": [
    "score4 = silhouette_score(X, kmeans4.labels_)\n",
    "print(\"Silhouette Score:\", score4)"
   ]
  },
  {
   "cell_type": "code",
   "execution_count": 26,
   "id": "51c49dd8",
   "metadata": {},
   "outputs": [
    {
     "name": "stdout",
     "output_type": "stream",
     "text": [
      "SSE (Inertia): 38.13952136919527\n"
     ]
    }
   ],
   "source": [
    "sse4 = kmeans4.inertia_\n",
    "print(\"SSE (Inertia):\", sse4)"
   ]
  },
  {
   "cell_type": "code",
   "execution_count": 27,
   "id": "c7387079",
   "metadata": {},
   "outputs": [
    {
     "data": {
      "image/png": "[encoded data removed]",
      "text/plain": [
       "<Figure size 1200x500 with 2 Axes>"
      ]
     },
     "metadata": {},
     "output_type": "display_data"
    }
   ],
   "source": [
    "import matplotlib.pyplot as plt\n",
    "\n",
    "# 3. Mencoba K-Means dengan jumlah klaster 2 sampai 4\n",
    "sse = [0.733753386362786,0.5526724253274978,0.5164276907998084]  # Sum of Squared Errors (inertia)\n",
    "silhouette_scores = [91.95261494252873,51.258375420875424,38.13952136919527]  # Silhouette Scores\n",
    "\n",
    "# 4. Visualisasi SSE dan Silhouette Score\n",
    "plt.figure(figsize=(12, 5))\n",
    "\n",
    "# Elbow Plot\n",
    "plt.subplot(1, 2, 1)\n",
    "plt.plot(range(2, 5), sse, marker='o')\n",
    "plt.title('Elbow Method (SSE)')\n",
    "plt.xlabel('Jumlah Klaster (K)')\n",
    "plt.ylabel('SSE (Inertia)')\n",
    "\n",
    "# Silhouette Score Plot\n",
    "plt.subplot(1, 2, 2)\n",
    "plt.plot(range(2, 5), silhouette_scores, marker='o', color='green')\n",
    "plt.title('Silhouette Score')\n",
    "plt.xlabel('Jumlah Klaster (K)')\n",
    "plt.ylabel('Silhouette Score')\n",
    "\n",
    "plt.tight_layout()\n",
    "plt.show()\n"
   ]
  }
 ],
 "metadata": {
  "kernelspec": {
   "display_name": "Python 3",
   "language": "python",
   "name": "python3"
  },
  "language_info": {
   "codemirror_mode": {
    "name": "ipython",
    "version": 3
   },
   "file_extension": ".py",
   "mimetype": "text/x-python",
   "name": "python",
   "nbconvert_exporter": "python",
   "pygments_lexer": "ipython3",
   "version": "3.12.10"
  }
 },
 "nbformat": 4,
 "nbformat_minor": 5
}
