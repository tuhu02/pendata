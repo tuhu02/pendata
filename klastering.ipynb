{
 "cells": [
  {
   "cell_type": "markdown",
   "id": "80afadad",
   "metadata": {},
   "source": [
    "# Klastering K-Means\n",
    "\n",
    "**Pengertian**\n",
    "K-Means adalah teknik klastering berbasis partisi yang digunakan untuk mengelompokkan data ke dalam K kelompok (cluster) berdasarkan kemiripan.\n",
    "Setiap cluster direpresentasikan oleh centroid, yaitu titik rata-rata dari seluruh data dalam cluster tersebut.\n",
    "\n",
    "**Tujuan dan Fungsi**\n",
    "- Meminimalkan variasi dalam klaster (within-cluster variance)\n",
    "- Mengelompokkan objek dengan tujuan:\n",
    "    - Objek dalam satu klaster sehomogen mungkin (mirip satu sama lain)\n",
    "    - Objek antar klaster seheterogen mungkin (berbeda satu sama lain)\n",
    "\n",
    "**Evaluasi Hasil Klastering**  \n",
    "Inertia:  \n",
    "Jumlah kuadrat jarak antara setiap titik dan centroid klasternya. Nilai yang lebih kecil menunjukkan klaster yang lebih kompak.\n",
    "  \n",
    "Silhouette Score:  \n",
    "Ukuran yang menunjukkan seberapa mirip suatu objek dengan klasternya sendiri dibandingkan dengan klaster lain. Nilai berkisar dari -1 hingga 1; semakin tinggi, semakin baik pemisahan antar klaster.\n",
    "  \n",
    "Elbow Method:  \n",
    "Digunakan untuk menentukan jumlah klaster (K) yang optimal. Titik \"tekukan\" (elbow) pada grafik inertia vs. K menandakan jumlah klaster yang ideal."
   ]
  },
  {
   "cell_type": "markdown",
   "id": "24e2d7b3",
   "metadata": {},
   "source": [
    "**Klastering K-Means dengan 2 Klaster**"
   ]
  },
  {
   "cell_type": "code",
   "execution_count": 301,
   "id": "1a68b5fa",
   "metadata": {},
   "outputs": [
    {
     "name": "stdout",
     "output_type": "stream",
     "text": [
      "   id        class  petal_length  petal_width  sepal_length  sepal_width\n",
      "0   1  Iris-setosa           1.4          0.2           5.1          3.5\n",
      "1   2  Iris-setosa           1.4          0.2           4.9          3.0\n",
      "2   3  Iris-setosa           1.3          0.2           4.7          3.2\n",
      "3   4  Iris-setosa           1.5          0.2           4.6          3.1\n",
      "4   5  Iris-setosa           1.4          0.2           5.0          3.6\n"
     ]
    }
   ],
   "source": [
    "import pandas as pd\n",
    "from sklearn.cluster import KMeans\n",
    "from sklearn.metrics import silhouette_score\n",
    "\n",
    "# Membaca file CSV\n",
    "df = pd.read_csv(\"data_iris.csv\")\n",
    "print(df.head())  # Menampilkan 5 baris pertama dari DataFrame\n",
    "\n",
    "shilouette_scores = []\n",
    "sse_scores = []"
   ]
  },
  {
   "cell_type": "code",
   "execution_count": 302,
   "id": "b08e6701",
   "metadata": {},
   "outputs": [
    {
     "name": "stdout",
     "output_type": "stream",
     "text": [
      "[[1.4 0.2 5.1 3.5]\n",
      " [1.4 0.2 4.9 3. ]\n",
      " [1.3 0.2 4.7 3.2]\n",
      " [1.5 0.2 4.6 3.1]\n",
      " [1.4 0.2 5.  3.6]\n",
      " [1.7 0.4 5.4 3.9]\n",
      " [1.4 0.3 4.6 3.4]\n",
      " [1.5 0.2 5.  3.4]\n",
      " [1.4 0.2 4.4 2.9]\n",
      " [1.5 0.1 4.9 3.1]\n",
      " [1.5 0.2 5.4 3.7]\n",
      " [1.6 0.2 4.8 3.4]\n",
      " [1.4 0.1 4.8 3. ]\n",
      " [1.1 0.1 4.3 3. ]\n",
      " [1.2 0.2 5.8 4. ]\n",
      " [1.5 0.4 5.7 4.4]\n",
      " [1.3 0.4 5.4 3.9]\n",
      " [1.4 0.3 5.1 3.5]\n",
      " [1.7 0.3 5.7 3.8]\n",
      " [1.5 0.3 5.1 3.8]\n",
      " [1.7 0.2 5.4 3.4]\n",
      " [1.5 0.4 5.1 3.7]\n",
      " [1.  0.2 4.6 3.6]\n",
      " [1.7 0.5 5.1 3.3]\n",
      " [1.9 0.2 4.8 3.4]\n",
      " [1.6 0.2 5.  3. ]\n",
      " [1.6 0.4 5.  3.4]\n",
      " [1.5 0.2 5.2 3.5]\n",
      " [1.4 0.2 5.2 3.4]\n",
      " [1.6 0.2 4.7 3.2]\n",
      " [1.6 0.2 4.8 3.1]\n",
      " [1.5 0.4 5.4 3.4]\n",
      " [1.5 0.1 5.2 4.1]\n",
      " [1.4 0.2 5.5 4.2]\n",
      " [1.5 0.1 4.9 3.1]\n",
      " [1.2 0.2 5.  3.2]\n",
      " [1.3 0.2 5.5 3.5]\n",
      " [1.5 0.1 4.9 3.1]\n",
      " [1.3 0.2 4.4 3. ]\n",
      " [1.5 0.2 5.1 3.4]\n",
      " [1.3 0.3 5.  3.5]\n",
      " [1.3 0.3 4.5 2.3]\n",
      " [1.3 0.2 4.4 3.2]\n",
      " [1.6 0.6 5.  3.5]\n",
      " [1.9 0.4 5.1 3.8]\n",
      " [1.4 0.3 4.8 3. ]\n",
      " [1.6 0.2 5.1 3.8]\n",
      " [1.4 0.2 4.6 3.2]\n",
      " [1.5 0.2 5.3 3.7]\n",
      " [1.4 0.2 5.  3.3]\n",
      " [4.7 1.4 7.  3.2]\n",
      " [4.5 1.5 6.4 3.2]\n",
      " [4.9 1.5 6.9 3.1]\n",
      " [4.  1.3 5.5 2.3]\n",
      " [4.6 1.5 6.5 2.8]\n",
      " [4.5 1.3 5.7 2.8]\n",
      " [4.7 1.6 6.3 3.3]\n",
      " [3.3 1.  4.9 2.4]\n",
      " [4.6 1.3 6.6 2.9]\n",
      " [3.9 1.4 5.2 2.7]\n",
      " [3.5 1.  5.  2. ]\n",
      " [4.2 1.5 5.9 3. ]\n",
      " [4.  1.  6.  2.2]\n",
      " [4.7 1.4 6.1 2.9]\n",
      " [3.6 1.3 5.6 2.9]\n",
      " [4.4 1.4 6.7 3.1]\n",
      " [4.5 1.5 5.6 3. ]\n",
      " [4.1 1.  5.8 2.7]\n",
      " [4.5 1.5 6.2 2.2]\n",
      " [3.9 1.1 5.6 2.5]\n",
      " [4.8 1.8 5.9 3.2]\n",
      " [4.  1.3 6.1 2.8]\n",
      " [4.9 1.5 6.3 2.5]\n",
      " [4.7 1.2 6.1 2.8]\n",
      " [4.3 1.3 6.4 2.9]\n",
      " [4.4 1.4 6.6 3. ]\n",
      " [4.8 1.4 6.8 2.8]\n",
      " [5.  1.7 6.7 3. ]\n",
      " [4.5 1.5 6.  2.9]\n",
      " [3.5 1.  5.7 2.6]\n",
      " [3.8 1.1 5.5 2.4]\n",
      " [3.7 1.  5.5 2.4]\n",
      " [3.9 1.2 5.8 2.7]\n",
      " [5.1 1.6 6.  2.7]\n",
      " [4.5 1.5 5.4 3. ]\n",
      " [4.5 1.6 6.  3.4]\n",
      " [4.7 1.5 6.7 3.1]\n",
      " [4.4 1.3 6.3 2.3]\n",
      " [4.1 1.3 5.6 3. ]\n",
      " [4.  1.3 5.5 2.5]\n",
      " [4.4 1.2 5.5 2.6]\n",
      " [4.6 1.4 6.1 3. ]\n",
      " [4.  1.2 5.8 2.6]\n",
      " [3.3 1.  5.  2.3]\n",
      " [4.2 1.3 5.6 2.7]\n",
      " [4.2 1.2 5.7 3. ]\n",
      " [4.2 1.3 5.7 2.9]\n",
      " [4.3 1.3 6.2 2.9]\n",
      " [3.  1.1 5.1 2.5]\n",
      " [4.1 1.3 5.7 2.8]\n",
      " [6.  2.5 6.3 3.3]\n",
      " [5.1 1.9 5.8 2.7]\n",
      " [5.9 2.1 7.1 3. ]\n",
      " [5.6 1.8 6.3 2.9]\n",
      " [5.8 2.2 6.5 3. ]\n",
      " [6.6 2.1 7.6 3. ]\n",
      " [4.5 1.7 4.9 2.5]\n",
      " [6.3 1.8 7.3 2.9]\n",
      " [5.8 1.8 6.7 2.5]\n",
      " [6.1 2.5 7.2 3.6]\n",
      " [5.1 2.  6.5 3.2]\n",
      " [5.3 1.9 6.4 2.7]\n",
      " [5.5 2.1 6.8 3. ]\n",
      " [5.  2.  5.7 2.5]\n",
      " [5.1 2.4 5.8 2.8]\n",
      " [5.3 2.3 6.4 3.2]\n",
      " [5.5 1.8 6.5 3. ]\n",
      " [6.7 2.2 7.7 3.8]\n",
      " [6.9 2.3 7.7 2.6]\n",
      " [5.  1.5 6.  2.2]\n",
      " [5.7 2.3 6.9 3.2]\n",
      " [4.9 2.  5.6 2.8]\n",
      " [6.7 2.  7.7 2.8]\n",
      " [4.9 1.8 6.3 2.7]\n",
      " [5.7 2.1 6.7 3.3]\n",
      " [6.  1.8 7.2 3.2]\n",
      " [4.8 1.8 6.2 2.8]\n",
      " [4.9 1.8 6.1 3. ]\n",
      " [5.6 2.1 6.4 2.8]\n",
      " [5.8 1.6 7.2 3. ]\n",
      " [6.1 1.9 7.4 2.8]\n",
      " [6.4 2.  7.9 3.8]\n",
      " [5.6 2.2 6.4 2.8]\n",
      " [5.1 1.5 6.3 2.8]\n",
      " [5.6 1.4 6.1 2.6]\n",
      " [6.1 2.3 7.7 3. ]\n",
      " [5.6 2.4 6.3 3.4]\n",
      " [5.5 1.8 6.4 3.1]\n",
      " [4.8 1.8 6.  3. ]\n",
      " [5.4 2.1 6.9 3.1]\n",
      " [5.6 2.4 6.7 3.1]\n",
      " [5.1 2.3 6.9 3.1]\n",
      " [5.1 1.9 5.8 2.7]\n",
      " [5.9 2.3 6.8 3.2]\n",
      " [5.7 2.5 6.7 3.3]\n",
      " [5.2 2.3 6.7 3. ]\n",
      " [5.  1.9 6.3 2.5]\n",
      " [5.2 2.  6.5 3. ]\n",
      " [5.4 2.3 6.2 3.4]\n",
      " [5.1 1.8 5.9 3. ]]\n"
     ]
    }
   ],
   "source": [
    "X = df.drop(columns=[\"class\", \"id\"]).values\n",
    "print(X)"
   ]
  },
  {
   "cell_type": "markdown",
   "id": "6371712a",
   "metadata": {},
   "source": [
    "**Klastering K-Means dengan 2 Klaster**"
   ]
  },
  {
   "cell_type": "code",
   "execution_count": 303,
   "id": "0718411a",
   "metadata": {},
   "outputs": [
    {
     "name": "stdout",
     "output_type": "stream",
     "text": [
      "Hasil label cluster: [0 0 0 0 0 0 0 0 0 0 0 0 0 0 0 0 0 0 0 0 0 0 0 0 0 0 0 0 0 0 0 0 0 0 0 0 0\n",
      " 0 0 0 0 0 0 0 0 0 0 0 0 0 1 1 1 1 1 1 1 0 1 1 1 1 1 1 1 1 1 1 1 1 1 1 1 1\n",
      " 1 1 1 1 1 1 1 1 1 1 1 1 1 1 1 1 1 1 1 0 1 1 1 1 0 1 1 1 1 1 1 1 1 1 1 1 1\n",
      " 1 1 1 1 1 1 1 1 1 1 1 1 1 1 1 1 1 1 1 1 1 1 1 1 1 1 1 1 1 1 1 1 1 1 1 1 1\n",
      " 1 1]\n"
     ]
    }
   ],
   "source": [
    "kmeans2 = KMeans(n_clusters=2, random_state=0, n_init=\"auto\", max_iter=300, tol=0.0001, verbose=0,copy_x=True,algorithm=\"lloyd\").fit(X)\n",
    "print(\"Hasil label cluster:\", kmeans2.labels_)"
   ]
  },
  {
   "cell_type": "code",
   "execution_count": 304,
   "id": "e59bb941",
   "metadata": {},
   "outputs": [
    {
     "name": "stdout",
     "output_type": "stream",
     "text": [
      "Centroid cluster: [[1.56226415 0.28867925 5.00566038 3.36037736]\n",
      " [4.95876289 1.69587629 6.30103093 2.88659794]]\n"
     ]
    }
   ],
   "source": [
    "print(\"Centroid cluster:\", kmeans2.cluster_centers_)"
   ]
  },
  {
   "cell_type": "code",
   "execution_count": 305,
   "id": "d7179c9a",
   "metadata": {},
   "outputs": [
    {
     "name": "stdout",
     "output_type": "stream",
     "text": [
      "Silhouette Score: 0.6808136202936811\n"
     ]
    }
   ],
   "source": [
    "score2 = silhouette_score(X, kmeans2.labels_)\n",
    "print(\"Silhouette Score:\", score2)\n",
    "shilouette_scores.append(score2)"
   ]
  },
  {
   "cell_type": "code",
   "execution_count": 306,
   "id": "a06c3753",
   "metadata": {},
   "outputs": [
    {
     "name": "stdout",
     "output_type": "stream",
     "text": [
      "SSE (Inertia): 152.36870647733903\n"
     ]
    }
   ],
   "source": [
    "sse2 = kmeans2.inertia_\n",
    "print(\"SSE (Inertia):\", sse2)\n",
    "sse_scores.append(sse2)"
   ]
  },
  {
   "cell_type": "markdown",
   "id": "4b8a304d",
   "metadata": {},
   "source": [
    "**Klastering K-Means dengan 3 Klaster**"
   ]
  },
  {
   "cell_type": "code",
   "execution_count": 307,
   "id": "837a4297",
   "metadata": {},
   "outputs": [
    {
     "name": "stdout",
     "output_type": "stream",
     "text": [
      "Hasil label cluster: [1 1 1 1 1 1 1 1 1 1 1 1 1 1 1 1 1 1 1 1 1 1 1 1 1 1 1 1 1 1 1 1 1 1 1 1 1\n",
      " 1 1 1 1 1 1 1 1 1 1 1 1 1 2 0 2 0 0 0 0 0 0 0 0 0 0 0 0 0 0 0 0 0 0 0 0 0\n",
      " 0 0 0 2 0 0 0 0 0 0 0 0 0 0 0 0 0 0 0 0 0 0 0 0 0 0 2 0 2 2 2 2 0 2 2 2 2\n",
      " 2 2 0 0 2 2 2 2 0 2 0 2 0 2 2 0 0 2 2 2 2 2 0 2 2 2 2 0 2 2 2 0 2 2 2 0 2\n",
      " 2 0]\n"
     ]
    }
   ],
   "source": [
    "kmeans3 = KMeans(n_clusters=3, random_state=0, n_init=\"auto\", max_iter=300, tol=0.0001, verbose=0,copy_x=True,algorithm=\"lloyd\").fit(X)\n",
    "print(\"Hasil label cluster:\", kmeans3.labels_)"
   ]
  },
  {
   "cell_type": "code",
   "execution_count": 308,
   "id": "6d0f61cc",
   "metadata": {},
   "outputs": [
    {
     "name": "stdout",
     "output_type": "stream",
     "text": [
      "Silhouette Score: 0.5509643746707433\n"
     ]
    }
   ],
   "source": [
    "score3 = silhouette_score(X, kmeans3.labels_)\n",
    "print(\"Silhouette Score:\", score3)\n",
    "shilouette_scores.append(score3)"
   ]
  },
  {
   "cell_type": "code",
   "execution_count": 309,
   "id": "dcbadea8",
   "metadata": {},
   "outputs": [
    {
     "name": "stdout",
     "output_type": "stream",
     "text": [
      "Centroid cluster: [[4.38852459 1.43442623 5.88360656 2.74098361]\n",
      " [1.464      0.244      5.006      3.418     ]\n",
      " [5.71538462 2.05384615 6.85384615 3.07692308]]\n"
     ]
    }
   ],
   "source": [
    "print(\"Centroid cluster:\", kmeans3.cluster_centers_)"
   ]
  },
  {
   "cell_type": "code",
   "execution_count": 310,
   "id": "8779ce68",
   "metadata": {},
   "outputs": [
    {
     "name": "stdout",
     "output_type": "stream",
     "text": [
      "SSE (Inertia): 78.9450658259773\n"
     ]
    }
   ],
   "source": [
    "sse3 = kmeans3.inertia_\n",
    "print(\"SSE (Inertia):\", sse3)\n",
    "sse_scores.append(sse3)"
   ]
  },
  {
   "cell_type": "markdown",
   "id": "6eb5b259",
   "metadata": {},
   "source": [
    "**Klastering K-Means dengan 4 Klaster**"
   ]
  },
  {
   "cell_type": "code",
   "execution_count": 311,
   "id": "6d48de87",
   "metadata": {},
   "outputs": [
    {
     "name": "stdout",
     "output_type": "stream",
     "text": [
      "Hasil label cluster: [1 1 1 1 1 1 1 1 1 1 1 1 1 1 1 1 1 1 1 1 1 1 1 1 1 1 1 1 1 1 1 1 1 1 1 1 1\n",
      " 1 1 1 1 1 1 1 1 1 1 1 1 1 3 3 3 0 3 0 3 0 3 0 0 0 0 3 0 3 0 0 3 0 3 0 3 3\n",
      " 3 3 3 3 3 0 0 0 0 3 0 3 3 3 0 0 0 3 0 0 0 0 0 3 0 0 2 3 2 2 2 2 0 2 2 2 3\n",
      " 3 2 3 3 2 2 2 2 3 2 3 2 3 2 2 3 3 2 2 2 2 2 3 3 2 2 2 3 2 2 2 3 2 2 2 3 3\n",
      " 2 3]\n"
     ]
    }
   ],
   "source": [
    "kmeans4 = KMeans(n_clusters=4, random_state=0, n_init=\"auto\", max_iter=300, tol=0.0001, verbose=0,copy_x=True,algorithm=\"lloyd\").fit(X)\n",
    "print(\"Hasil label cluster:\", kmeans4.labels_)"
   ]
  },
  {
   "cell_type": "code",
   "execution_count": 312,
   "id": "983dff2f",
   "metadata": {},
   "outputs": [
    {
     "name": "stdout",
     "output_type": "stream",
     "text": [
      "Centroid cluster: [[3.96071429 1.22857143 5.53214286 2.63571429]\n",
      " [1.464      0.244      5.006      3.418     ]\n",
      " [5.846875   2.13125    6.9125     3.1       ]\n",
      " [4.815      1.625      6.2525     2.855     ]]\n"
     ]
    }
   ],
   "source": [
    "print(\"Centroid cluster:\", kmeans4.cluster_centers_)"
   ]
  },
  {
   "cell_type": "code",
   "execution_count": 313,
   "id": "1d5b3bb1",
   "metadata": {},
   "outputs": [
    {
     "name": "stdout",
     "output_type": "stream",
     "text": [
      "Silhouette Score: 0.49782569010954614\n"
     ]
    }
   ],
   "source": [
    "score4 = silhouette_score(X, kmeans4.labels_)\n",
    "print(\"Silhouette Score:\", score4)\n",
    "shilouette_scores.append(score4)"
   ]
  },
  {
   "cell_type": "code",
   "execution_count": 314,
   "id": "133b6721",
   "metadata": {},
   "outputs": [
    {
     "name": "stdout",
     "output_type": "stream",
     "text": [
      "SSE (Inertia): 57.31787321428572\n"
     ]
    }
   ],
   "source": [
    "sse4 = kmeans4.inertia_\n",
    "print(\"SSE (Inertia):\", sse4)\n",
    "sse_scores.append(sse4)"
   ]
  },
  {
   "cell_type": "markdown",
   "id": "307ad61b",
   "metadata": {},
   "source": [
    "**Evaluasi Hasil Klustering**"
   ]
  },
  {
   "cell_type": "code",
   "execution_count": 315,
   "id": "71c4613b",
   "metadata": {},
   "outputs": [
    {
     "data": {
      "image/png": "[encoded data removed]",
      "text/plain": [
       "<Figure size 1200x500 with 2 Axes>"
      ]
     },
     "metadata": {},
     "output_type": "display_data"
    }
   ],
   "source": [
    "import matplotlib.pyplot as plt\n",
    "\n",
    "# 4. Visualisasi SSE dan Silhouette Score\n",
    "plt.figure(figsize=(12, 5))\n",
    "\n",
    "# Elbow Plot\n",
    "plt.subplot(1, 2, 1)\n",
    "plt.plot(range(2, 5), sse_scores, marker='o')\n",
    "plt.title('Elbow Method (SSE)')\n",
    "plt.xlabel('Jumlah Klaster (K)')\n",
    "plt.ylabel('SSE (Inertia)')\n",
    "\n",
    "# Silhouette Score Plot\n",
    "plt.subplot(1, 2, 2)\n",
    "plt.plot(range(2, 5), shilouette_scores, marker='o', color='green')\n",
    "plt.title('Silhouette Score')\n",
    "plt.xlabel('Jumlah Klaster (K)')\n",
    "plt.ylabel('Silhouette Score')\n",
    "\n",
    "plt.tight_layout()\n",
    "plt.show()\n"
   ]
  },
  {
   "cell_type": "markdown",
   "id": "232486d5",
   "metadata": {},
   "source": [
    "# Klastering menggunakan data dengan label class"
   ]
  },
  {
   "cell_type": "code",
   "execution_count": 330,
   "id": "d14123c4",
   "metadata": {},
   "outputs": [
    {
     "name": "stdout",
     "output_type": "stream",
     "text": [
      "[[0.  1.4 0.2 5.1 3.5]\n",
      " [0.  1.4 0.2 4.9 3. ]\n",
      " [0.  1.3 0.2 4.7 3.2]\n",
      " [0.  1.5 0.2 4.6 3.1]\n",
      " [0.  1.4 0.2 5.  3.6]\n",
      " [0.  1.7 0.4 5.4 3.9]\n",
      " [0.  1.4 0.3 4.6 3.4]\n",
      " [0.  1.5 0.2 5.  3.4]\n",
      " [0.  1.4 0.2 4.4 2.9]\n",
      " [0.  1.5 0.1 4.9 3.1]\n",
      " [0.  1.5 0.2 5.4 3.7]\n",
      " [0.  1.6 0.2 4.8 3.4]\n",
      " [0.  1.4 0.1 4.8 3. ]\n",
      " [0.  1.1 0.1 4.3 3. ]\n",
      " [0.  1.2 0.2 5.8 4. ]\n",
      " [0.  1.5 0.4 5.7 4.4]\n",
      " [0.  1.3 0.4 5.4 3.9]\n",
      " [0.  1.4 0.3 5.1 3.5]\n",
      " [0.  1.7 0.3 5.7 3.8]\n",
      " [0.  1.5 0.3 5.1 3.8]\n",
      " [0.  1.7 0.2 5.4 3.4]\n",
      " [0.  1.5 0.4 5.1 3.7]\n",
      " [0.  1.  0.2 4.6 3.6]\n",
      " [0.  1.7 0.5 5.1 3.3]\n",
      " [0.  1.9 0.2 4.8 3.4]\n",
      " [0.  1.6 0.2 5.  3. ]\n",
      " [0.  1.6 0.4 5.  3.4]\n",
      " [0.  1.5 0.2 5.2 3.5]\n",
      " [0.  1.4 0.2 5.2 3.4]\n",
      " [0.  1.6 0.2 4.7 3.2]\n",
      " [0.  1.6 0.2 4.8 3.1]\n",
      " [0.  1.5 0.4 5.4 3.4]\n",
      " [0.  1.5 0.1 5.2 4.1]\n",
      " [0.  1.4 0.2 5.5 4.2]\n",
      " [0.  1.5 0.1 4.9 3.1]\n",
      " [0.  1.2 0.2 5.  3.2]\n",
      " [0.  1.3 0.2 5.5 3.5]\n",
      " [0.  1.5 0.1 4.9 3.1]\n",
      " [0.  1.3 0.2 4.4 3. ]\n",
      " [0.  1.5 0.2 5.1 3.4]\n",
      " [0.  1.3 0.3 5.  3.5]\n",
      " [0.  1.3 0.3 4.5 2.3]\n",
      " [0.  1.3 0.2 4.4 3.2]\n",
      " [0.  1.6 0.6 5.  3.5]\n",
      " [0.  1.9 0.4 5.1 3.8]\n",
      " [0.  1.4 0.3 4.8 3. ]\n",
      " [0.  1.6 0.2 5.1 3.8]\n",
      " [0.  1.4 0.2 4.6 3.2]\n",
      " [0.  1.5 0.2 5.3 3.7]\n",
      " [0.  1.4 0.2 5.  3.3]\n",
      " [1.  4.7 1.4 7.  3.2]\n",
      " [1.  4.5 1.5 6.4 3.2]\n",
      " [1.  4.9 1.5 6.9 3.1]\n",
      " [1.  4.  1.3 5.5 2.3]\n",
      " [1.  4.6 1.5 6.5 2.8]\n",
      " [1.  4.5 1.3 5.7 2.8]\n",
      " [1.  4.7 1.6 6.3 3.3]\n",
      " [1.  3.3 1.  4.9 2.4]\n",
      " [1.  4.6 1.3 6.6 2.9]\n",
      " [1.  3.9 1.4 5.2 2.7]\n",
      " [1.  3.5 1.  5.  2. ]\n",
      " [1.  4.2 1.5 5.9 3. ]\n",
      " [1.  4.  1.  6.  2.2]\n",
      " [1.  4.7 1.4 6.1 2.9]\n",
      " [1.  3.6 1.3 5.6 2.9]\n",
      " [1.  4.4 1.4 6.7 3.1]\n",
      " [1.  4.5 1.5 5.6 3. ]\n",
      " [1.  4.1 1.  5.8 2.7]\n",
      " [1.  4.5 1.5 6.2 2.2]\n",
      " [1.  3.9 1.1 5.6 2.5]\n",
      " [1.  4.8 1.8 5.9 3.2]\n",
      " [1.  4.  1.3 6.1 2.8]\n",
      " [1.  4.9 1.5 6.3 2.5]\n",
      " [1.  4.7 1.2 6.1 2.8]\n",
      " [1.  4.3 1.3 6.4 2.9]\n",
      " [1.  4.4 1.4 6.6 3. ]\n",
      " [1.  4.8 1.4 6.8 2.8]\n",
      " [1.  5.  1.7 6.7 3. ]\n",
      " [1.  4.5 1.5 6.  2.9]\n",
      " [1.  3.5 1.  5.7 2.6]\n",
      " [1.  3.8 1.1 5.5 2.4]\n",
      " [1.  3.7 1.  5.5 2.4]\n",
      " [1.  3.9 1.2 5.8 2.7]\n",
      " [1.  5.1 1.6 6.  2.7]\n",
      " [1.  4.5 1.5 5.4 3. ]\n",
      " [1.  4.5 1.6 6.  3.4]\n",
      " [1.  4.7 1.5 6.7 3.1]\n",
      " [1.  4.4 1.3 6.3 2.3]\n",
      " [1.  4.1 1.3 5.6 3. ]\n",
      " [1.  4.  1.3 5.5 2.5]\n",
      " [1.  4.4 1.2 5.5 2.6]\n",
      " [1.  4.6 1.4 6.1 3. ]\n",
      " [1.  4.  1.2 5.8 2.6]\n",
      " [1.  3.3 1.  5.  2.3]\n",
      " [1.  4.2 1.3 5.6 2.7]\n",
      " [1.  4.2 1.2 5.7 3. ]\n",
      " [1.  4.2 1.3 5.7 2.9]\n",
      " [1.  4.3 1.3 6.2 2.9]\n",
      " [1.  3.  1.1 5.1 2.5]\n",
      " [1.  4.1 1.3 5.7 2.8]\n",
      " [2.  6.  2.5 6.3 3.3]\n",
      " [2.  5.1 1.9 5.8 2.7]\n",
      " [2.  5.9 2.1 7.1 3. ]\n",
      " [2.  5.6 1.8 6.3 2.9]\n",
      " [2.  5.8 2.2 6.5 3. ]\n",
      " [2.  6.6 2.1 7.6 3. ]\n",
      " [2.  4.5 1.7 4.9 2.5]\n",
      " [2.  6.3 1.8 7.3 2.9]\n",
      " [2.  5.8 1.8 6.7 2.5]\n",
      " [2.  6.1 2.5 7.2 3.6]\n",
      " [2.  5.1 2.  6.5 3.2]\n",
      " [2.  5.3 1.9 6.4 2.7]\n",
      " [2.  5.5 2.1 6.8 3. ]\n",
      " [2.  5.  2.  5.7 2.5]\n",
      " [2.  5.1 2.4 5.8 2.8]\n",
      " [2.  5.3 2.3 6.4 3.2]\n",
      " [2.  5.5 1.8 6.5 3. ]\n",
      " [2.  6.7 2.2 7.7 3.8]\n",
      " [2.  6.9 2.3 7.7 2.6]\n",
      " [2.  5.  1.5 6.  2.2]\n",
      " [2.  5.7 2.3 6.9 3.2]\n",
      " [2.  4.9 2.  5.6 2.8]\n",
      " [2.  6.7 2.  7.7 2.8]\n",
      " [2.  4.9 1.8 6.3 2.7]\n",
      " [2.  5.7 2.1 6.7 3.3]\n",
      " [2.  6.  1.8 7.2 3.2]\n",
      " [2.  4.8 1.8 6.2 2.8]\n",
      " [2.  4.9 1.8 6.1 3. ]\n",
      " [2.  5.6 2.1 6.4 2.8]\n",
      " [2.  5.8 1.6 7.2 3. ]\n",
      " [2.  6.1 1.9 7.4 2.8]\n",
      " [2.  6.4 2.  7.9 3.8]\n",
      " [2.  5.6 2.2 6.4 2.8]\n",
      " [2.  5.1 1.5 6.3 2.8]\n",
      " [2.  5.6 1.4 6.1 2.6]\n",
      " [2.  6.1 2.3 7.7 3. ]\n",
      " [2.  5.6 2.4 6.3 3.4]\n",
      " [2.  5.5 1.8 6.4 3.1]\n",
      " [2.  4.8 1.8 6.  3. ]\n",
      " [2.  5.4 2.1 6.9 3.1]\n",
      " [2.  5.6 2.4 6.7 3.1]\n",
      " [2.  5.1 2.3 6.9 3.1]\n",
      " [2.  5.1 1.9 5.8 2.7]\n",
      " [2.  5.9 2.3 6.8 3.2]\n",
      " [2.  5.7 2.5 6.7 3.3]\n",
      " [2.  5.2 2.3 6.7 3. ]\n",
      " [2.  5.  1.9 6.3 2.5]\n",
      " [2.  5.2 2.  6.5 3. ]\n",
      " [2.  5.4 2.3 6.2 3.4]\n",
      " [2.  5.1 1.8 5.9 3. ]]\n"
     ]
    }
   ],
   "source": [
    "import pandas as pd\n",
    "from sklearn.cluster import KMeans\n",
    "from sklearn.metrics import silhouette_score\n",
    "from sklearn.preprocessing import LabelEncoder\n",
    "\n",
    "# Membaca file CSV\n",
    "df = pd.read_csv(\"data_iris.csv\")\n",
    "\n",
    "shilouette_scores_class = []\n",
    "sse_scores_class = []\n",
    "label_encoder = LabelEncoder()\n",
    "df['class'] = label_encoder.fit_transform(df['class'])\n",
    "X = df.drop(columns=[\"id\"]).values\n",
    "print(X)  # Menampilkan 5 baris pertama dari DataFrame"
   ]
  },
  {
   "cell_type": "markdown",
   "id": "2f62684a",
   "metadata": {},
   "source": [
    "**Klastering K-Means dengan 2 Klaster**"
   ]
  },
  {
   "cell_type": "code",
   "execution_count": 331,
   "id": "19e91717",
   "metadata": {},
   "outputs": [
    {
     "name": "stdout",
     "output_type": "stream",
     "text": [
      "Hasil label cluster: [0 0 0 0 0 0 0 0 0 0 0 0 0 0 0 0 0 0 0 0 0 0 0 0 0 0 0 0 0 0 0 0 0 0 0 0 0\n",
      " 0 0 0 0 0 0 0 0 0 0 0 0 0 1 1 1 1 1 1 1 0 1 1 1 1 1 1 1 1 1 1 1 1 1 1 1 1\n",
      " 1 1 1 1 1 1 1 1 1 1 1 1 1 1 1 1 1 1 1 1 1 1 1 1 0 1 1 1 1 1 1 1 1 1 1 1 1\n",
      " 1 1 1 1 1 1 1 1 1 1 1 1 1 1 1 1 1 1 1 1 1 1 1 1 1 1 1 1 1 1 1 1 1 1 1 1 1\n",
      " 1 1]\n"
     ]
    }
   ],
   "source": [
    "kmeansc = KMeans(n_clusters=2, random_state=0, n_init=\"auto\", max_iter=300, tol=0.0001, verbose=0,copy_x=True,algorithm=\"lloyd\").fit(X)\n",
    "print(\"Hasil label cluster:\", kmeansc.labels_)"
   ]
  },
  {
   "cell_type": "code",
   "execution_count": 332,
   "id": "cdd69f0a",
   "metadata": {},
   "outputs": [
    {
     "name": "stdout",
     "output_type": "stream",
     "text": [
      "Centroid cluster: [[0.03846154 1.52884615 0.275      5.00576923 3.38076923]\n",
      " [1.51020408 4.94183673 1.68877551 6.2877551  2.88061224]]\n"
     ]
    }
   ],
   "source": [
    "print(\"Centroid cluster:\", kmeansc.cluster_centers_)"
   ]
  },
  {
   "cell_type": "code",
   "execution_count": 319,
   "id": "07acc8a3",
   "metadata": {},
   "outputs": [
    {
     "name": "stdout",
     "output_type": "stream",
     "text": [
      "Silhouette Score: 0.6761002460735731\n"
     ]
    }
   ],
   "source": [
    "scorec = silhouette_score(X, kmeansc.labels_)\n",
    "print(\"Silhouette Score:\", scorec)\n",
    "shilouette_scores_class.append(scorec)"
   ]
  },
  {
   "cell_type": "code",
   "execution_count": 320,
   "id": "c5d91ba5",
   "metadata": {},
   "outputs": [
    {
     "name": "stdout",
     "output_type": "stream",
     "text": [
      "SSE (Inertia): 179.2607339089482\n"
     ]
    }
   ],
   "source": [
    "ssec = kmeansc.inertia_\n",
    "print(\"SSE (Inertia):\", ssec)\n",
    "sse_scores_class.append(ssec)"
   ]
  },
  {
   "cell_type": "markdown",
   "id": "77ac8d1c",
   "metadata": {},
   "source": [
    "**Klastering K-Means dengan 3 Klaster**"
   ]
  },
  {
   "cell_type": "code",
   "execution_count": 321,
   "id": "f04e72d8",
   "metadata": {},
   "outputs": [
    {
     "name": "stdout",
     "output_type": "stream",
     "text": [
      "Hasil label cluster: [1 1 1 1 1 1 1 1 1 1 1 1 1 1 1 1 1 1 1 1 1 1 1 1 1 1 1 1 1 1 1 1 1 1 1 1 1\n",
      " 1 1 1 1 1 1 1 1 1 1 1 1 1 0 0 0 0 0 0 0 0 0 0 0 0 0 0 0 0 0 0 0 0 0 0 0 0\n",
      " 0 0 0 2 0 0 0 0 0 0 0 0 0 0 0 0 0 0 0 0 0 0 0 0 0 0 2 2 2 2 2 2 0 2 2 2 2\n",
      " 2 2 2 2 2 2 2 2 2 2 2 2 2 2 2 2 2 2 2 2 2 2 2 2 2 2 2 2 2 2 2 2 2 2 2 2 2\n",
      " 2 2]\n"
     ]
    }
   ],
   "source": [
    "kmeansc3 = KMeans(n_clusters=3, random_state=0, n_init=\"auto\", max_iter=300, tol=0.0001, verbose=0,copy_x=True,algorithm=\"lloyd\").fit(X)\n",
    "print(\"Hasil label cluster:\", kmeansc3.labels_)"
   ]
  },
  {
   "cell_type": "code",
   "execution_count": 322,
   "id": "c5ee466e",
   "metadata": {},
   "outputs": [
    {
     "name": "stdout",
     "output_type": "stream",
     "text": [
      "Centroid cluster: [[1.02  4.25  1.326 5.9   2.76 ]\n",
      " [0.    1.464 0.244 5.006 3.418]\n",
      " [1.98  5.562 2.026 6.624 2.984]]\n"
     ]
    }
   ],
   "source": [
    "print(\"Centroid cluster:\", kmeansc3.cluster_centers_)"
   ]
  },
  {
   "cell_type": "code",
   "execution_count": 323,
   "id": "caeb4ebf",
   "metadata": {},
   "outputs": [
    {
     "name": "stdout",
     "output_type": "stream",
     "text": [
      "Silhouette Score: 0.6761002460735731\n"
     ]
    }
   ],
   "source": [
    "scorec3 = silhouette_score(X, kmeansc.labels_)\n",
    "print(\"Silhouette Score:\", scorec3)\n",
    "shilouette_scores_class.append(scorec3)"
   ]
  },
  {
   "cell_type": "code",
   "execution_count": 324,
   "id": "d24eb448",
   "metadata": {},
   "outputs": [
    {
     "name": "stdout",
     "output_type": "stream",
     "text": [
      "SSE (Inertia): 87.354\n"
     ]
    }
   ],
   "source": [
    "ssec3 = kmeansc3.inertia_\n",
    "print(\"SSE (Inertia):\", ssec3)\n",
    "sse_scores_class.append(ssec3)"
   ]
  },
  {
   "cell_type": "markdown",
   "id": "01f6ad65",
   "metadata": {},
   "source": [
    "**Klastering K-Means dengan 4 Klaster**"
   ]
  },
  {
   "cell_type": "code",
   "execution_count": 325,
   "id": "3c04492c",
   "metadata": {},
   "outputs": [
    {
     "name": "stdout",
     "output_type": "stream",
     "text": [
      "Hasil label cluster: [1 1 1 1 1 1 1 1 1 1 1 1 1 1 1 1 1 1 1 1 1 1 1 1 1 1 1 1 1 1 1 1 1 1 1 1 1\n",
      " 1 1 1 1 1 1 1 1 1 1 1 1 1 0 0 0 0 0 0 0 0 0 0 0 0 0 0 0 0 0 0 0 0 0 0 0 0\n",
      " 0 0 0 2 0 0 0 0 0 0 0 0 0 0 0 0 0 0 0 0 0 0 0 0 0 0 2 2 3 2 2 3 0 3 2 3 2\n",
      " 2 2 2 2 2 2 3 3 2 2 2 3 2 2 3 2 2 2 3 3 3 2 2 2 3 2 2 2 2 2 2 2 2 2 2 2 2\n",
      " 2 2]\n"
     ]
    }
   ],
   "source": [
    "kmeansc4 = KMeans(n_clusters=4, random_state=0, n_init=\"auto\", max_iter=300, tol=0.0001, verbose=0,copy_x=True,algorithm=\"lloyd\").fit(X)\n",
    "print(\"Hasil label cluster:\", kmeansc4.labels_)"
   ]
  },
  {
   "cell_type": "code",
   "execution_count": 326,
   "id": "71991607",
   "metadata": {},
   "outputs": [
    {
     "name": "stdout",
     "output_type": "stream",
     "text": [
      "Centroid cluster: [[1.02       4.25       1.326      5.9        2.76      ]\n",
      " [0.         1.464      0.244      5.006      3.418     ]\n",
      " [1.97368421 5.32894737 2.01842105 6.35526316 2.93947368]\n",
      " [2.         6.3        2.05       7.475      3.125     ]]\n"
     ]
    }
   ],
   "source": [
    "print(\"Centroid cluster:\", kmeansc4.cluster_centers_)"
   ]
  },
  {
   "cell_type": "code",
   "execution_count": 327,
   "id": "2e5d1b43",
   "metadata": {},
   "outputs": [
    {
     "name": "stdout",
     "output_type": "stream",
     "text": [
      "Silhouette Score: 0.5476040150107029\n"
     ]
    }
   ],
   "source": [
    "scorec4 = silhouette_score(X, kmeansc4.labels_)\n",
    "print(\"Silhouette Score:\", scorec4)\n",
    "shilouette_scores_class.append(scorec4)"
   ]
  },
  {
   "cell_type": "code",
   "execution_count": 328,
   "id": "c8252589",
   "metadata": {},
   "outputs": [
    {
     "name": "stdout",
     "output_type": "stream",
     "text": [
      "SSE (Inertia): 66.99028421052633\n"
     ]
    }
   ],
   "source": [
    "ssec4 = kmeansc4.inertia_\n",
    "print(\"SSE (Inertia):\", ssec4)\n",
    "sse_scores_class.append(ssec4)"
   ]
  },
  {
   "cell_type": "code",
   "execution_count": 329,
   "id": "b876f9b7",
   "metadata": {},
   "outputs": [
    {
     "data": {
      "image/png": "[encoded data removed]",
      "text/plain": [
       "<Figure size 1200x500 with 2 Axes>"
      ]
     },
     "metadata": {},
     "output_type": "display_data"
    }
   ],
   "source": [
    "import matplotlib.pyplot as plt\n",
    "\n",
    "# 4. Visualisasi SSE dan Silhouette Score\n",
    "plt.figure(figsize=(12, 5))\n",
    "\n",
    "# Elbow Plot\n",
    "plt.subplot(1, 2, 1)\n",
    "plt.plot(range(2, 5), sse_scores_class, marker='o')\n",
    "plt.title('Elbow Method (SSE)')\n",
    "plt.xlabel('Jumlah Klaster (K)')\n",
    "plt.ylabel('SSE (Inertia)')\n",
    "\n",
    "# Silhouette Score Plot\n",
    "plt.subplot(1, 2, 2)\n",
    "plt.plot(range(2, 5), shilouette_scores_class, marker='o', color='green')\n",
    "plt.title('Silhouette Score')\n",
    "plt.xlabel('Jumlah Klaster (K)')\n",
    "plt.ylabel('Silhouette Score')\n",
    "\n",
    "plt.tight_layout()\n",
    "plt.show()\n"
   ]
  }
 ],
 "metadata": {
  "kernelspec": {
   "display_name": "Python 3",
   "language": "python",
   "name": "python3"
  },
  "language_info": {
   "codemirror_mode": {
    "name": "ipython",
    "version": 3
   },
   "file_extension": ".py",
   "mimetype": "text/x-python",
   "name": "python",
   "nbconvert_exporter": "python",
   "pygments_lexer": "ipython3",
   "version": "3.12.10"
  }
 },
 "nbformat": 4,
 "nbformat_minor": 5
}
